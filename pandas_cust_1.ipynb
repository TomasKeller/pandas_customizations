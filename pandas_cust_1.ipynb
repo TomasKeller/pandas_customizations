{
 "cells": [
  {
   "cell_type": "markdown",
   "metadata": {},
   "source": [
    "# input from many sources\n",
    "- https://towardsdatascience.com/become-a-pandas-power-user-with-these-display-customizations-6d3a5a5885c1\n",
    "- https://towardsdatascience.com/10-python-pandas-tricks-to-make-data-analysis-more-enjoyable-cb8f55af8c30"
   ]
  },
  {
   "cell_type": "code",
   "execution_count": 1,
   "metadata": {},
   "outputs": [
    {
     "name": "stdout",
     "output_type": "stream",
     "text": [
      "System\n",
      "os name: posix\n",
      "system: Darwin\n",
      "release: 19.3.0\n",
      "\n",
      "Python\n",
      "version: 3.6.10\n",
      "\n",
      "Python Packages\n",
      "jupterlab==1.0.2\n",
      "pandas==1.0.1\n"
     ]
    },
    {
     "name": "stderr",
     "output_type": "stream",
     "text": [
      "/Users/tomas/miniconda3/envs/py36/lib/python3.6/site-packages/ipykernel_launcher.py:20: FutureWarning: The pandas.np module is deprecated and will be removed from pandas in a future version. Import numpy directly instead\n"
     ]
    }
   ],
   "source": [
    "import os\n",
    "import platform\n",
    "from platform import python_version\n",
    "import jupyterlab\n",
    "import pandas as pd\n",
    "import random\n",
    "print(\"System\")\n",
    "print(\"os name: %s\" % os.name)\n",
    "print(\"system: %s\" % platform.system())\n",
    "print(\"release: %s\" % platform.release())\n",
    "print()\n",
    "print(\"Python\")\n",
    "print(\"version: %s\" % python_version())\n",
    "print()\n",
    "print(\"Python Packages\")\n",
    "print(\"jupterlab==%s\" % jupyterlab.__version__)\n",
    "print(\"pandas==%s\" % pd.__version__)\n",
    "seed = 42\n",
    "random.seed(seed)\n",
    "pd.np.random.seed(seed)"
   ]
  },
  {
   "cell_type": "code",
   "execution_count": 2,
   "metadata": {},
   "outputs": [],
   "source": [
    "pd.options.display.max_columns = 50  # None -> No Restrictions\n",
    "pd.options.display.max_rows = 10    # None -> Be careful with this \n",
    "pd.options.display.max_colwidth = 100\n",
    "pd.options.display.precision = 3\n",
    "pd.set_option('precision',3)"
   ]
  },
  {
   "cell_type": "code",
   "execution_count": 92,
   "metadata": {},
   "outputs": [
    {
     "name": "stderr",
     "output_type": "stream",
     "text": [
      "/Users/tomas/miniconda3/envs/py36/lib/python3.6/site-packages/ipykernel_launcher.py:6: FutureWarning: The pandas.np module is deprecated and will be removed from pandas in a future version. Import numpy directly instead\n",
      "  \n"
     ]
    },
    {
     "data": {
      "text/plain": [
       "(10, 2)"
      ]
     },
     "execution_count": 92,
     "metadata": {},
     "output_type": "execute_result"
    }
   ],
   "source": [
    "def generate_sentence(n_chars=200):\n",
    "    return ''.join(random.choice('abcdefg ') for _ in range(n_chars))\n",
    "n = 10\n",
    "df = pd.DataFrame(\n",
    "    {\n",
    "        \"col1\": pd.np.random.random_sample(n)-0.5,\n",
    "        \"text\": [generate_sentence() for _ in range(n)]\n",
    "    }\n",
    ")\n",
    "df.shape"
   ]
  },
  {
   "cell_type": "code",
   "execution_count": 93,
   "metadata": {},
   "outputs": [
    {
     "data": {
      "text/html": [
       "<div>\n",
       "<style scoped>\n",
       "    .dataframe tbody tr th:only-of-type {\n",
       "        vertical-align: middle;\n",
       "    }\n",
       "\n",
       "    .dataframe tbody tr th {\n",
       "        vertical-align: top;\n",
       "    }\n",
       "\n",
       "    .dataframe thead th {\n",
       "        text-align: right;\n",
       "    }\n",
       "</style>\n",
       "<table border=\"1\" class=\"dataframe\">\n",
       "  <thead>\n",
       "    <tr style=\"text-align: right;\">\n",
       "      <th></th>\n",
       "      <th>col1</th>\n",
       "      <th>text</th>\n",
       "    </tr>\n",
       "  </thead>\n",
       "  <tbody>\n",
       "    <tr>\n",
       "      <th>0</th>\n",
       "      <td>0.0515878725</td>\n",
       "      <td>bg ca fbeefggbgg gabfaedeabacgff ge fggf dc  ebafagfacddaegcbe agbgfd dafdeca bgcdagbfa baggbgadg afaebb   gdbeg aga egbccda e  ced fgggc ecdaa bfe ffabddg cbbfg beaccegebd bgfaecdbfgd bdbbfbbdgaae ae</td>\n",
       "    </tr>\n",
       "    <tr>\n",
       "      <th>1</th>\n",
       "      <td>-0.3351657389</td>\n",
       "      <td>geeeafbfbdec bbcgaagagbeebgggbb  cecag aaffceae  f ceaadadbfbgb fgccee gebefdcfbabacgddecc   afecgcdffedeecbdabbff gebfbdffdcd fad db fcfcdcedecbdf gfgca ddfaageffaecea cgcff cd agcf dgaaffccgcdbg fab</td>\n",
       "    </tr>\n",
       "    <tr>\n",
       "      <th>2</th>\n",
       "      <td>-0.0887448834</td>\n",
       "      <td>bfdc adebe  fggd bd  aafdcbccdgf fd geefbcfgcccadegeecgbda bgagdefbagdccbgcgaec f badgdafgfgcfagebcdfcagabba becdgadgafeeed cbdcg  gddbbaededa  fgecbbab e cbdbbcgf egadacdbcb b aecdc fbbfcagdaebgfc cg</td>\n",
       "    </tr>\n",
       "    <tr>\n",
       "      <th>3</th>\n",
       "      <td>0.2776022837</td>\n",
       "      <td>bbafdbaab cfbdgccdabd acabeabeggbdga  c caefaagdfdddfabgcgcfbaeegb dafbfbddcag dacea ebdfggfddadgdf eddbfaaaebgcg fabegdbegfaadeffegecabbacdcabgfbagab fa fbcg  faegbgccedgfg cacae badgfde gebeec b efd</td>\n",
       "    </tr>\n",
       "    <tr>\n",
       "      <th>4</th>\n",
       "      <td>-0.0196299181</td>\n",
       "      <td>befffaaacagfe dfgec cedgbaacefabege acdga eb agaccfcffdbdeb gccafeb feabgd afecb dddgbacgfgbcagegeg ge fgcfaefabedcf acgbacffbedcffcadcgfbbafcdafdag dadadeabg  gcbbafa b af eefeagbed g dedbffg gf cgcg</td>\n",
       "    </tr>\n",
       "    <tr>\n",
       "      <th>5</th>\n",
       "      <td>0.4852860507</td>\n",
       "      <td>dc dced adbafggfbebdeda gdc gbgafbb acecdgd ed dabdbedebdf bgcgbbbe gca de  dfebeffge dbbgfcggd aaeddabef bgfgaaebaceegccgb dega dgdbedbbd ccdaefadadebbge gec dgbdd cc bbffdcfdacbdg bgaddeb  gac ea cg</td>\n",
       "    </tr>\n",
       "    <tr>\n",
       "      <th>6</th>\n",
       "      <td>-0.1232610301</td>\n",
       "      <td>ebafadbg bcd dfdacc begfdfdgcdca cegbbfgcdag abeg abebcaee bcadgce efgcd gb dc  gagdfbdgagf ebgedggdd fgbefdf    fcefdgbd eecdgaeceefacfg acb cfbgbad gdceadaed ebcgagffbagb a ddbdceac fecfabgf fff egd</td>\n",
       "    </tr>\n",
       "    <tr>\n",
       "      <th>7</th>\n",
       "      <td>0.2495783000</td>\n",
       "      <td>cba afgaff debagaaggbgbfdb ggaceefg bbeddg f ffegagdecgafddcegggab faebeadgde efbcgbd accdaeedbcbdeff aa cfgg cdagdgf d bfbaebdg   g fdcceg d bg ff bcaefeaceedcg gebdgg egga gdbebdfaeaeee ec a cfeefc</td>\n",
       "    </tr>\n",
       "    <tr>\n",
       "      <th>8</th>\n",
       "      <td>-0.1070105510</td>\n",
       "      <td>gbafe c ea fbdbegad cadfgbaf   a fabddcfg  egdb  bgcgg gbgddgdbdadcgcegeaeggfe  afdgeedefebcb gcaabcdecaacafdgfaefgggaabcddbfceaebf fec ggbc  ddddfgecabeef ggbgcfagebadbeb dcgfcdegffegbcadeg cgeeabcbe</td>\n",
       "    </tr>\n",
       "    <tr>\n",
       "      <th>9</th>\n",
       "      <td>0.3291642207</td>\n",
       "      <td>dfdfecfgcga bde fbdea ebfafceaffegfbcagagbbf d cfdadbfegedeecafeaacdbfa  dafdaadedccgcaffffgce fgf dddedbafbf  caf cd dabgfega efgcfg adc b f faaca fcaega edagee  dcaceeea db babbcadg cbgecgbggge ba d</td>\n",
       "    </tr>\n",
       "  </tbody>\n",
       "</table>\n",
       "</div>"
      ],
      "text/plain": [
       "           col1  \\\n",
       "0  0.0515878725   \n",
       "1 -0.3351657389   \n",
       "2 -0.0887448834   \n",
       "3  0.2776022837   \n",
       "4 -0.0196299181   \n",
       "5  0.4852860507   \n",
       "6 -0.1232610301   \n",
       "7  0.2495783000   \n",
       "8 -0.1070105510   \n",
       "9  0.3291642207   \n",
       "\n",
       "                                                                                                                                                                                                       text  \n",
       "0  bg ca fbeefggbgg gabfaedeabacgff ge fggf dc  ebafagfacddaegcbe agbgfd dafdeca bgcdagbfa baggbgadg afaebb   gdbeg aga egbccda e  ced fgggc ecdaa bfe ffabddg cbbfg beaccegebd bgfaecdbfgd bdbbfbbdgaae ae  \n",
       "1  geeeafbfbdec bbcgaagagbeebgggbb  cecag aaffceae  f ceaadadbfbgb fgccee gebefdcfbabacgddecc   afecgcdffedeecbdabbff gebfbdffdcd fad db fcfcdcedecbdf gfgca ddfaageffaecea cgcff cd agcf dgaaffccgcdbg fab  \n",
       "2  bfdc adebe  fggd bd  aafdcbccdgf fd geefbcfgcccadegeecgbda bgagdefbagdccbgcgaec f badgdafgfgcfagebcdfcagabba becdgadgafeeed cbdcg  gddbbaededa  fgecbbab e cbdbbcgf egadacdbcb b aecdc fbbfcagdaebgfc cg  \n",
       "3  bbafdbaab cfbdgccdabd acabeabeggbdga  c caefaagdfdddfabgcgcfbaeegb dafbfbddcag dacea ebdfggfddadgdf eddbfaaaebgcg fabegdbegfaadeffegecabbacdcabgfbagab fa fbcg  faegbgccedgfg cacae badgfde gebeec b efd  \n",
       "4  befffaaacagfe dfgec cedgbaacefabege acdga eb agaccfcffdbdeb gccafeb feabgd afecb dddgbacgfgbcagegeg ge fgcfaefabedcf acgbacffbedcffcadcgfbbafcdafdag dadadeabg  gcbbafa b af eefeagbed g dedbffg gf cgcg  \n",
       "5  dc dced adbafggfbebdeda gdc gbgafbb acecdgd ed dabdbedebdf bgcgbbbe gca de  dfebeffge dbbgfcggd aaeddabef bgfgaaebaceegccgb dega dgdbedbbd ccdaefadadebbge gec dgbdd cc bbffdcfdacbdg bgaddeb  gac ea cg  \n",
       "6  ebafadbg bcd dfdacc begfdfdgcdca cegbbfgcdag abeg abebcaee bcadgce efgcd gb dc  gagdfbdgagf ebgedggdd fgbefdf    fcefdgbd eecdgaeceefacfg acb cfbgbad gdceadaed ebcgagffbagb a ddbdceac fecfabgf fff egd  \n",
       "7  cba afgaff debagaaggbgbfdb ggaceefg bbeddg f ffegagdecgafddcegggab faebeadgde efbcgbd accdaeedbcbdeff aa cfgg cdagdgf d bfbaebdg   g fdcceg d bg ff bcaefeaceedcg gebdgg egga gdbebdfaeaeee ec a cfeefc   \n",
       "8  gbafe c ea fbdbegad cadfgbaf   a fabddcfg  egdb  bgcgg gbgddgdbdadcgcegeaeggfe  afdgeedefebcb gcaabcdecaacafdgfaefgggaabcddbfceaebf fec ggbc  ddddfgecabeef ggbgcfagebadbeb dcgfcdegffegbcadeg cgeeabcbe  \n",
       "9  dfdfecfgcga bde fbdea ebfafceaffegfbcagagbbf d cfdadbfegedeecafeaacdbfa  dafdaadedccgcaffffgce fgf dddedbafbf  caf cd dabgfega efgcfg adc b f faaca fcaega edagee  dcaceeea db babbcadg cbgecgbggge ba d  "
      ]
     },
     "execution_count": 93,
     "metadata": {},
     "output_type": "execute_result"
    }
   ],
   "source": [
    "df"
   ]
  },
  {
   "cell_type": "markdown",
   "metadata": {},
   "source": [
    "## Suppress scientific notation\n"
   ]
  },
  {
   "cell_type": "code",
   "execution_count": 94,
   "metadata": {},
   "outputs": [
    {
     "data": {
      "text/html": [
       "<div>\n",
       "<style scoped>\n",
       "    .dataframe tbody tr th:only-of-type {\n",
       "        vertical-align: middle;\n",
       "    }\n",
       "\n",
       "    .dataframe tbody tr th {\n",
       "        vertical-align: top;\n",
       "    }\n",
       "\n",
       "    .dataframe thead th {\n",
       "        text-align: right;\n",
       "    }\n",
       "</style>\n",
       "<table border=\"1\" class=\"dataframe\">\n",
       "  <thead>\n",
       "    <tr style=\"text-align: right;\">\n",
       "      <th></th>\n",
       "      <th>col1</th>\n",
       "      <th>text</th>\n",
       "    </tr>\n",
       "  </thead>\n",
       "  <tbody>\n",
       "    <tr>\n",
       "      <th>0</th>\n",
       "      <td>0.0000000001</td>\n",
       "      <td>bg ca fbeefggbgg gabfaedeabacgff ge fggf dc  ebafagfacddaegcbe agbgfd dafdeca bgcdagbfa baggbgadg afaebb   gdbeg aga egbccda e  ced fgggc ecdaa bfe ffabddg cbbfg beaccegebd bgfaecdbfgd bdbbfbbdgaae ae</td>\n",
       "    </tr>\n",
       "    <tr>\n",
       "      <th>1</th>\n",
       "      <td>-0.3351657389</td>\n",
       "      <td>geeeafbfbdec bbcgaagagbeebgggbb  cecag aaffceae  f ceaadadbfbgb fgccee gebefdcfbabacgddecc   afecgcdffedeecbdabbff gebfbdffdcd fad db fcfcdcedecbdf gfgca ddfaageffaecea cgcff cd agcf dgaaffccgcdbg fab</td>\n",
       "    </tr>\n",
       "    <tr>\n",
       "      <th>2</th>\n",
       "      <td>-0.0887448834</td>\n",
       "      <td>bfdc adebe  fggd bd  aafdcbccdgf fd geefbcfgcccadegeecgbda bgagdefbagdccbgcgaec f badgdafgfgcfagebcdfcagabba becdgadgafeeed cbdcg  gddbbaededa  fgecbbab e cbdbbcgf egadacdbcb b aecdc fbbfcagdaebgfc cg</td>\n",
       "    </tr>\n",
       "    <tr>\n",
       "      <th>3</th>\n",
       "      <td>0.2776022837</td>\n",
       "      <td>bbafdbaab cfbdgccdabd acabeabeggbdga  c caefaagdfdddfabgcgcfbaeegb dafbfbddcag dacea ebdfggfddadgdf eddbfaaaebgcg fabegdbegfaadeffegecabbacdcabgfbagab fa fbcg  faegbgccedgfg cacae badgfde gebeec b efd</td>\n",
       "    </tr>\n",
       "    <tr>\n",
       "      <th>4</th>\n",
       "      <td>-0.0196299181</td>\n",
       "      <td>befffaaacagfe dfgec cedgbaacefabege acdga eb agaccfcffdbdeb gccafeb feabgd afecb dddgbacgfgbcagegeg ge fgcfaefabedcf acgbacffbedcffcadcgfbbafcdafdag dadadeabg  gcbbafa b af eefeagbed g dedbffg gf cgcg</td>\n",
       "    </tr>\n",
       "  </tbody>\n",
       "</table>\n",
       "</div>"
      ],
      "text/plain": [
       "           col1  \\\n",
       "0  0.0000000001   \n",
       "1 -0.3351657389   \n",
       "2 -0.0887448834   \n",
       "3  0.2776022837   \n",
       "4 -0.0196299181   \n",
       "\n",
       "                                                                                                                                                                                                       text  \n",
       "0  bg ca fbeefggbgg gabfaedeabacgff ge fggf dc  ebafagfacddaegcbe agbgfd dafdeca bgcdagbfa baggbgadg afaebb   gdbeg aga egbccda e  ced fgggc ecdaa bfe ffabddg cbbfg beaccegebd bgfaecdbfgd bdbbfbbdgaae ae  \n",
       "1  geeeafbfbdec bbcgaagagbeebgggbb  cecag aaffceae  f ceaadadbfbgb fgccee gebefdcfbabacgddecc   afecgcdffedeecbdabbff gebfbdffdcd fad db fcfcdcedecbdf gfgca ddfaageffaecea cgcff cd agcf dgaaffccgcdbg fab  \n",
       "2  bfdc adebe  fggd bd  aafdcbccdgf fd geefbcfgcccadegeecgbda bgagdefbagdccbgcgaec f badgdafgfgcfagebcdfcagabba becdgadgafeeed cbdcg  gddbbaededa  fgecbbab e cbdbbcgf egadacdbcb b aecdc fbbfcagdaebgfc cg  \n",
       "3  bbafdbaab cfbdgccdabd acabeabeggbdga  c caefaagdfdddfabgcgcfbaeegb dafbfbddcag dacea ebdfggfddadgdf eddbfaaaebgcg fabegdbegfaadeffegecabbacdcabgfbagab fa fbcg  faegbgccedgfg cacae badgfde gebeec b efd  \n",
       "4  befffaaacagfe dfgec cedgbaacefabege acdga eb agaccfcffdbdeb gccafeb feabgd afecb dddgbacgfgbcagegeg ge fgcfaefabedcf acgbacffbedcffcadcgfbbafcdafdag dadadeabg  gcbbafa b af eefeagbed g dedbffg gf cgcg  "
      ]
     },
     "execution_count": 94,
     "metadata": {},
     "output_type": "execute_result"
    }
   ],
   "source": [
    "df.iloc[0, 0] = 1e-10\n",
    "df.head()"
   ]
  },
  {
   "cell_type": "code",
   "execution_count": 95,
   "metadata": {},
   "outputs": [
    {
     "data": {
      "text/html": [
       "<div>\n",
       "<style scoped>\n",
       "    .dataframe tbody tr th:only-of-type {\n",
       "        vertical-align: middle;\n",
       "    }\n",
       "\n",
       "    .dataframe tbody tr th {\n",
       "        vertical-align: top;\n",
       "    }\n",
       "\n",
       "    .dataframe thead th {\n",
       "        text-align: right;\n",
       "    }\n",
       "</style>\n",
       "<table border=\"1\" class=\"dataframe\">\n",
       "  <thead>\n",
       "    <tr style=\"text-align: right;\">\n",
       "      <th></th>\n",
       "      <th>col1</th>\n",
       "      <th>text</th>\n",
       "    </tr>\n",
       "  </thead>\n",
       "  <tbody>\n",
       "    <tr>\n",
       "      <th>0</th>\n",
       "      <td>0.0000000001</td>\n",
       "      <td>bg ca fbeefggbgg gabfaedeabacgff ge fggf dc  ebafagfacddaegcbe agbgfd dafdeca bgcdagbfa baggbgadg afaebb   gdbeg aga egbccda e  ced fgggc ecdaa bfe ffabddg cbbfg beaccegebd bgfaecdbfgd bdbbfbbdgaae ae</td>\n",
       "    </tr>\n",
       "    <tr>\n",
       "      <th>1</th>\n",
       "      <td>-0.3351657389</td>\n",
       "      <td>geeeafbfbdec bbcgaagagbeebgggbb  cecag aaffceae  f ceaadadbfbgb fgccee gebefdcfbabacgddecc   afecgcdffedeecbdabbff gebfbdffdcd fad db fcfcdcedecbdf gfgca ddfaageffaecea cgcff cd agcf dgaaffccgcdbg fab</td>\n",
       "    </tr>\n",
       "    <tr>\n",
       "      <th>2</th>\n",
       "      <td>-0.0887448834</td>\n",
       "      <td>bfdc adebe  fggd bd  aafdcbccdgf fd geefbcfgcccadegeecgbda bgagdefbagdccbgcgaec f badgdafgfgcfagebcdfcagabba becdgadgafeeed cbdcg  gddbbaededa  fgecbbab e cbdbbcgf egadacdbcb b aecdc fbbfcagdaebgfc cg</td>\n",
       "    </tr>\n",
       "    <tr>\n",
       "      <th>3</th>\n",
       "      <td>0.2776022837</td>\n",
       "      <td>bbafdbaab cfbdgccdabd acabeabeggbdga  c caefaagdfdddfabgcgcfbaeegb dafbfbddcag dacea ebdfggfddadgdf eddbfaaaebgcg fabegdbegfaadeffegecabbacdcabgfbagab fa fbcg  faegbgccedgfg cacae badgfde gebeec b efd</td>\n",
       "    </tr>\n",
       "    <tr>\n",
       "      <th>4</th>\n",
       "      <td>-0.0196299181</td>\n",
       "      <td>befffaaacagfe dfgec cedgbaacefabege acdga eb agaccfcffdbdeb gccafeb feabgd afecb dddgbacgfgbcagegeg ge fgcfaefabedcf acgbacffbedcffcadcgfbbafcdafdag dadadeabg  gcbbafa b af eefeagbed g dedbffg gf cgcg</td>\n",
       "    </tr>\n",
       "  </tbody>\n",
       "</table>\n",
       "</div>"
      ],
      "text/plain": [
       "           col1  \\\n",
       "0  0.0000000001   \n",
       "1 -0.3351657389   \n",
       "2 -0.0887448834   \n",
       "3  0.2776022837   \n",
       "4 -0.0196299181   \n",
       "\n",
       "                                                                                                                                                                                                       text  \n",
       "0  bg ca fbeefggbgg gabfaedeabacgff ge fggf dc  ebafagfacddaegcbe agbgfd dafdeca bgcdagbfa baggbgadg afaebb   gdbeg aga egbccda e  ced fgggc ecdaa bfe ffabddg cbbfg beaccegebd bgfaecdbfgd bdbbfbbdgaae ae  \n",
       "1  geeeafbfbdec bbcgaagagbeebgggbb  cecag aaffceae  f ceaadadbfbgb fgccee gebefdcfbabacgddecc   afecgcdffedeecbdabbff gebfbdffdcd fad db fcfcdcedecbdf gfgca ddfaageffaecea cgcff cd agcf dgaaffccgcdbg fab  \n",
       "2  bfdc adebe  fggd bd  aafdcbccdgf fd geefbcfgcccadegeecgbda bgagdefbagdccbgcgaec f badgdafgfgcfagebcdfcagabba becdgadgafeeed cbdcg  gddbbaededa  fgecbbab e cbdbbcgf egadacdbcb b aecdc fbbfcagdaebgfc cg  \n",
       "3  bbafdbaab cfbdgccdabd acabeabeggbdga  c caefaagdfdddfabgcgcfbaeegb dafbfbddcag dacea ebdfggfddadgdf eddbfaaaebgcg fabegdbegfaadeffegecabbacdcabgfbagab fa fbcg  faegbgccedgfg cacae badgfde gebeec b efd  \n",
       "4  befffaaacagfe dfgec cedgbaacefabege acdga eb agaccfcffdbdeb gccafeb feabgd afecb dddgbacgfgbcagegeg ge fgcfaefabedcf acgbacffbedcffcadcgfbbafcdafdag dadadeabg  gcbbafa b af eefeagbed g dedbffg gf cgcg  "
      ]
     },
     "execution_count": 95,
     "metadata": {},
     "output_type": "execute_result"
    }
   ],
   "source": [
    "pd.options.display.float_format = '{:,.10f}'.format\n",
    "df.head()\n",
    "\n",
    "# use the following to switch back to scifi notation\n",
    "# pd.reset_option('display.float_format')\n"
   ]
  },
  {
   "cell_type": "markdown",
   "metadata": {},
   "source": [
    "## Max columns/rows to display\n"
   ]
  },
  {
   "cell_type": "code",
   "execution_count": 96,
   "metadata": {},
   "outputs": [
    {
     "name": "stdout",
     "output_type": "stream",
     "text": [
      "We are currently using max columns = 100\n",
      "Updated max columns to 100\n"
     ]
    }
   ],
   "source": [
    "print('We are currently using max columns = {}'.format(pd.get_option('display.max_columns')))\n",
    "pd.set_option(\"display.max_columns\", 100)\n",
    "print('Updated max columns to {}'.format(pd.get_option('display.max_columns')))\n"
   ]
  },
  {
   "cell_type": "markdown",
   "metadata": {},
   "source": [
    "## Expand the column width\n"
   ]
  },
  {
   "cell_type": "code",
   "execution_count": 97,
   "metadata": {},
   "outputs": [
    {
     "data": {
      "text/html": [
       "<div>\n",
       "<style scoped>\n",
       "    .dataframe tbody tr th:only-of-type {\n",
       "        vertical-align: middle;\n",
       "    }\n",
       "\n",
       "    .dataframe tbody tr th {\n",
       "        vertical-align: top;\n",
       "    }\n",
       "\n",
       "    .dataframe thead th {\n",
       "        text-align: right;\n",
       "    }\n",
       "</style>\n",
       "<table border=\"1\" class=\"dataframe\">\n",
       "  <thead>\n",
       "    <tr style=\"text-align: right;\">\n",
       "      <th></th>\n",
       "      <th>col1</th>\n",
       "      <th>text</th>\n",
       "    </tr>\n",
       "  </thead>\n",
       "  <tbody>\n",
       "    <tr>\n",
       "      <th>0</th>\n",
       "      <td>0.0000000001</td>\n",
       "      <td>bg ca fbeefggbgg gabfaedeabacgff ge fggf dc  ebafagfacddaegcbe agbgfd dafdeca bgcdagbfa baggbgadg afaebb   gdbeg aga egbccda e  ced fgggc ecdaa bfe ffabddg cbbfg beaccegebd bgfaecdbfgd bdbbfbbdgaae ae</td>\n",
       "    </tr>\n",
       "    <tr>\n",
       "      <th>1</th>\n",
       "      <td>-0.3351657389</td>\n",
       "      <td>geeeafbfbdec bbcgaagagbeebgggbb  cecag aaffceae  f ceaadadbfbgb fgccee gebefdcfbabacgddecc   afecgcdffedeecbdabbff gebfbdffdcd fad db fcfcdcedecbdf gfgca ddfaageffaecea cgcff cd agcf dgaaffccgcdbg fab</td>\n",
       "    </tr>\n",
       "    <tr>\n",
       "      <th>2</th>\n",
       "      <td>-0.0887448834</td>\n",
       "      <td>bfdc adebe  fggd bd  aafdcbccdgf fd geefbcfgcccadegeecgbda bgagdefbagdccbgcgaec f badgdafgfgcfagebcdfcagabba becdgadgafeeed cbdcg  gddbbaededa  fgecbbab e cbdbbcgf egadacdbcb b aecdc fbbfcagdaebgfc cg</td>\n",
       "    </tr>\n",
       "    <tr>\n",
       "      <th>3</th>\n",
       "      <td>0.2776022837</td>\n",
       "      <td>bbafdbaab cfbdgccdabd acabeabeggbdga  c caefaagdfdddfabgcgcfbaeegb dafbfbddcag dacea ebdfggfddadgdf eddbfaaaebgcg fabegdbegfaadeffegecabbacdcabgfbagab fa fbcg  faegbgccedgfg cacae badgfde gebeec b efd</td>\n",
       "    </tr>\n",
       "    <tr>\n",
       "      <th>4</th>\n",
       "      <td>-0.0196299181</td>\n",
       "      <td>befffaaacagfe dfgec cedgbaacefabege acdga eb agaccfcffdbdeb gccafeb feabgd afecb dddgbacgfgbcagegeg ge fgcfaefabedcf acgbacffbedcffcadcgfbbafcdafdag dadadeabg  gcbbafa b af eefeagbed g dedbffg gf cgcg</td>\n",
       "    </tr>\n",
       "    <tr>\n",
       "      <th>5</th>\n",
       "      <td>0.4852860507</td>\n",
       "      <td>dc dced adbafggfbebdeda gdc gbgafbb acecdgd ed dabdbedebdf bgcgbbbe gca de  dfebeffge dbbgfcggd aaeddabef bgfgaaebaceegccgb dega dgdbedbbd ccdaefadadebbge gec dgbdd cc bbffdcfdacbdg bgaddeb  gac ea cg</td>\n",
       "    </tr>\n",
       "    <tr>\n",
       "      <th>6</th>\n",
       "      <td>-0.1232610301</td>\n",
       "      <td>ebafadbg bcd dfdacc begfdfdgcdca cegbbfgcdag abeg abebcaee bcadgce efgcd gb dc  gagdfbdgagf ebgedggdd fgbefdf    fcefdgbd eecdgaeceefacfg acb cfbgbad gdceadaed ebcgagffbagb a ddbdceac fecfabgf fff egd</td>\n",
       "    </tr>\n",
       "    <tr>\n",
       "      <th>7</th>\n",
       "      <td>0.2495783000</td>\n",
       "      <td>cba afgaff debagaaggbgbfdb ggaceefg bbeddg f ffegagdecgafddcegggab faebeadgde efbcgbd accdaeedbcbdeff aa cfgg cdagdgf d bfbaebdg   g fdcceg d bg ff bcaefeaceedcg gebdgg egga gdbebdfaeaeee ec a cfeefc</td>\n",
       "    </tr>\n",
       "    <tr>\n",
       "      <th>8</th>\n",
       "      <td>-0.1070105510</td>\n",
       "      <td>gbafe c ea fbdbegad cadfgbaf   a fabddcfg  egdb  bgcgg gbgddgdbdadcgcegeaeggfe  afdgeedefebcb gcaabcdecaacafdgfaefgggaabcddbfceaebf fec ggbc  ddddfgecabeef ggbgcfagebadbeb dcgfcdegffegbcadeg cgeeabcbe</td>\n",
       "    </tr>\n",
       "    <tr>\n",
       "      <th>9</th>\n",
       "      <td>0.3291642207</td>\n",
       "      <td>dfdfecfgcga bde fbdea ebfafceaffegfbcagagbbf d cfdadbfegedeecafeaacdbfa  dafdaadedccgcaffffgce fgf dddedbafbf  caf cd dabgfega efgcfg adc b f faaca fcaega edagee  dcaceeea db babbcadg cbgecgbggge ba d</td>\n",
       "    </tr>\n",
       "  </tbody>\n",
       "</table>\n",
       "</div>"
      ],
      "text/plain": [
       "           col1  \\\n",
       "0  0.0000000001   \n",
       "1 -0.3351657389   \n",
       "2 -0.0887448834   \n",
       "3  0.2776022837   \n",
       "4 -0.0196299181   \n",
       "5  0.4852860507   \n",
       "6 -0.1232610301   \n",
       "7  0.2495783000   \n",
       "8 -0.1070105510   \n",
       "9  0.3291642207   \n",
       "\n",
       "                                                                                                                                                                                                       text  \n",
       "0  bg ca fbeefggbgg gabfaedeabacgff ge fggf dc  ebafagfacddaegcbe agbgfd dafdeca bgcdagbfa baggbgadg afaebb   gdbeg aga egbccda e  ced fgggc ecdaa bfe ffabddg cbbfg beaccegebd bgfaecdbfgd bdbbfbbdgaae ae  \n",
       "1  geeeafbfbdec bbcgaagagbeebgggbb  cecag aaffceae  f ceaadadbfbgb fgccee gebefdcfbabacgddecc   afecgcdffedeecbdabbff gebfbdffdcd fad db fcfcdcedecbdf gfgca ddfaageffaecea cgcff cd agcf dgaaffccgcdbg fab  \n",
       "2  bfdc adebe  fggd bd  aafdcbccdgf fd geefbcfgcccadegeecgbda bgagdefbagdccbgcgaec f badgdafgfgcfagebcdfcagabba becdgadgafeeed cbdcg  gddbbaededa  fgecbbab e cbdbbcgf egadacdbcb b aecdc fbbfcagdaebgfc cg  \n",
       "3  bbafdbaab cfbdgccdabd acabeabeggbdga  c caefaagdfdddfabgcgcfbaeegb dafbfbddcag dacea ebdfggfddadgdf eddbfaaaebgcg fabegdbegfaadeffegecabbacdcabgfbagab fa fbcg  faegbgccedgfg cacae badgfde gebeec b efd  \n",
       "4  befffaaacagfe dfgec cedgbaacefabege acdga eb agaccfcffdbdeb gccafeb feabgd afecb dddgbacgfgbcagegeg ge fgcfaefabedcf acgbacffbedcffcadcgfbbafcdafdag dadadeabg  gcbbafa b af eefeagbed g dedbffg gf cgcg  \n",
       "5  dc dced adbafggfbebdeda gdc gbgafbb acecdgd ed dabdbedebdf bgcgbbbe gca de  dfebeffge dbbgfcggd aaeddabef bgfgaaebaceegccgb dega dgdbedbbd ccdaefadadebbge gec dgbdd cc bbffdcfdacbdg bgaddeb  gac ea cg  \n",
       "6  ebafadbg bcd dfdacc begfdfdgcdca cegbbfgcdag abeg abebcaee bcadgce efgcd gb dc  gagdfbdgagf ebgedggdd fgbefdf    fcefdgbd eecdgaeceefacfg acb cfbgbad gdceadaed ebcgagffbagb a ddbdceac fecfabgf fff egd  \n",
       "7  cba afgaff debagaaggbgbfdb ggaceefg bbeddg f ffegagdecgafddcegggab faebeadgde efbcgbd accdaeedbcbdeff aa cfgg cdagdgf d bfbaebdg   g fdcceg d bg ff bcaefeaceedcg gebdgg egga gdbebdfaeaeee ec a cfeefc   \n",
       "8  gbafe c ea fbdbegad cadfgbaf   a fabddcfg  egdb  bgcgg gbgddgdbdadcgcegeaeggfe  afdgeedefebcb gcaabcdecaacafdgfaefgggaabcddbfceaebf fec ggbc  ddddfgecabeef ggbgcfagebadbeb dcgfcdegffegbcadeg cgeeabcbe  \n",
       "9  dfdfecfgcga bde fbdea ebfafceaffegfbcagagbbf d cfdadbfegedeecafeaacdbfa  dafdaadedccgcaffffgce fgf dddedbafbf  caf cd dabgfega efgcfg adc b f faaca fcaega edagee  dcaceeea db babbcadg cbgecgbggge ba d  "
      ]
     },
     "execution_count": 97,
     "metadata": {},
     "output_type": "execute_result"
    }
   ],
   "source": [
    "pd.set_option('max_colwidth', 500)\n",
    "df"
   ]
  },
  {
   "cell_type": "markdown",
   "metadata": {},
   "source": [
    "## df info"
   ]
  },
  {
   "cell_type": "code",
   "execution_count": 98,
   "metadata": {},
   "outputs": [
    {
     "data": {
      "text/plain": [
       "<bound method DataFrame.info of <class 'pandas.core.frame.DataFrame'>\n",
       "RangeIndex: 10 entries, 0 to 9\n",
       "Data columns (total 2 columns):\n",
       " #   Column  Non-Null Count  Dtype  \n",
       "---  ------  --------------  -----  \n",
       " 0   col1    10 non-null     float64\n",
       " 1   text    10 non-null     object \n",
       "dtypes: float64(1), object(1)\n",
       "memory usage: 288.0+ bytes\n",
       ">"
      ]
     },
     "metadata": {},
     "output_type": "display_data"
    }
   ],
   "source": [
    "pd.set_option('large_repr', 'info')\n",
    "\n",
    "display(df.info)\n",
    "pd.reset_option('large_repr') # reset it\n"
   ]
  },
  {
   "cell_type": "markdown",
   "metadata": {},
   "source": [
    "## Coloring and highlighting"
   ]
  },
  {
   "cell_type": "code",
   "execution_count": 99,
   "metadata": {},
   "outputs": [
    {
     "data": {
      "text/html": [
       "<style  type=\"text/css\" >\n",
       "    #T_df82d0c6_650c_11ea_962e_acde48001122row0_col0 {\n",
       "            color:  black;\n",
       "        }    #T_df82d0c6_650c_11ea_962e_acde48001122row0_col1 {\n",
       "            color:  black;\n",
       "        }    #T_df82d0c6_650c_11ea_962e_acde48001122row1_col0 {\n",
       "            color:  red;\n",
       "        }    #T_df82d0c6_650c_11ea_962e_acde48001122row1_col1 {\n",
       "            color:  black;\n",
       "        }    #T_df82d0c6_650c_11ea_962e_acde48001122row2_col0 {\n",
       "            color:  red;\n",
       "        }    #T_df82d0c6_650c_11ea_962e_acde48001122row2_col1 {\n",
       "            color:  black;\n",
       "        }    #T_df82d0c6_650c_11ea_962e_acde48001122row3_col0 {\n",
       "            color:  black;\n",
       "        }    #T_df82d0c6_650c_11ea_962e_acde48001122row3_col1 {\n",
       "            color:  black;\n",
       "        }    #T_df82d0c6_650c_11ea_962e_acde48001122row4_col0 {\n",
       "            color:  red;\n",
       "        }    #T_df82d0c6_650c_11ea_962e_acde48001122row4_col1 {\n",
       "            color:  black;\n",
       "        }    #T_df82d0c6_650c_11ea_962e_acde48001122row5_col0 {\n",
       "            color:  black;\n",
       "        }    #T_df82d0c6_650c_11ea_962e_acde48001122row5_col1 {\n",
       "            color:  black;\n",
       "        }    #T_df82d0c6_650c_11ea_962e_acde48001122row6_col0 {\n",
       "            color:  red;\n",
       "        }    #T_df82d0c6_650c_11ea_962e_acde48001122row6_col1 {\n",
       "            color:  black;\n",
       "        }    #T_df82d0c6_650c_11ea_962e_acde48001122row7_col0 {\n",
       "            color:  black;\n",
       "        }    #T_df82d0c6_650c_11ea_962e_acde48001122row7_col1 {\n",
       "            color:  black;\n",
       "        }    #T_df82d0c6_650c_11ea_962e_acde48001122row8_col0 {\n",
       "            color:  red;\n",
       "        }    #T_df82d0c6_650c_11ea_962e_acde48001122row8_col1 {\n",
       "            color:  black;\n",
       "        }    #T_df82d0c6_650c_11ea_962e_acde48001122row9_col0 {\n",
       "            color:  black;\n",
       "        }    #T_df82d0c6_650c_11ea_962e_acde48001122row9_col1 {\n",
       "            color:  black;\n",
       "        }</style><table id=\"T_df82d0c6_650c_11ea_962e_acde48001122\" ><thead>    <tr>        <th class=\"blank level0\" ></th>        <th class=\"col_heading level0 col0\" >col1</th>        <th class=\"col_heading level0 col1\" >text</th>    </tr></thead><tbody>\n",
       "                <tr>\n",
       "                        <th id=\"T_df82d0c6_650c_11ea_962e_acde48001122level0_row0\" class=\"row_heading level0 row0\" >0</th>\n",
       "                        <td id=\"T_df82d0c6_650c_11ea_962e_acde48001122row0_col0\" class=\"data row0 col0\" >0.000</td>\n",
       "                        <td id=\"T_df82d0c6_650c_11ea_962e_acde48001122row0_col1\" class=\"data row0 col1\" >bg ca fbeefggbgg gabfaedeabacgff ge fggf dc  ebafagfacddaegcbe agbgfd dafdeca bgcdagbfa baggbgadg afaebb   gdbeg aga egbccda e  ced fgggc ecdaa bfe ffabddg cbbfg beaccegebd bgfaecdbfgd bdbbfbbdgaae ae</td>\n",
       "            </tr>\n",
       "            <tr>\n",
       "                        <th id=\"T_df82d0c6_650c_11ea_962e_acde48001122level0_row1\" class=\"row_heading level0 row1\" >1</th>\n",
       "                        <td id=\"T_df82d0c6_650c_11ea_962e_acde48001122row1_col0\" class=\"data row1 col0\" >-0.335</td>\n",
       "                        <td id=\"T_df82d0c6_650c_11ea_962e_acde48001122row1_col1\" class=\"data row1 col1\" >geeeafbfbdec bbcgaagagbeebgggbb  cecag aaffceae  f ceaadadbfbgb fgccee gebefdcfbabacgddecc   afecgcdffedeecbdabbff gebfbdffdcd fad db fcfcdcedecbdf gfgca ddfaageffaecea cgcff cd agcf dgaaffccgcdbg fab</td>\n",
       "            </tr>\n",
       "            <tr>\n",
       "                        <th id=\"T_df82d0c6_650c_11ea_962e_acde48001122level0_row2\" class=\"row_heading level0 row2\" >2</th>\n",
       "                        <td id=\"T_df82d0c6_650c_11ea_962e_acde48001122row2_col0\" class=\"data row2 col0\" >-0.089</td>\n",
       "                        <td id=\"T_df82d0c6_650c_11ea_962e_acde48001122row2_col1\" class=\"data row2 col1\" >bfdc adebe  fggd bd  aafdcbccdgf fd geefbcfgcccadegeecgbda bgagdefbagdccbgcgaec f badgdafgfgcfagebcdfcagabba becdgadgafeeed cbdcg  gddbbaededa  fgecbbab e cbdbbcgf egadacdbcb b aecdc fbbfcagdaebgfc cg</td>\n",
       "            </tr>\n",
       "            <tr>\n",
       "                        <th id=\"T_df82d0c6_650c_11ea_962e_acde48001122level0_row3\" class=\"row_heading level0 row3\" >3</th>\n",
       "                        <td id=\"T_df82d0c6_650c_11ea_962e_acde48001122row3_col0\" class=\"data row3 col0\" >0.278</td>\n",
       "                        <td id=\"T_df82d0c6_650c_11ea_962e_acde48001122row3_col1\" class=\"data row3 col1\" >bbafdbaab cfbdgccdabd acabeabeggbdga  c caefaagdfdddfabgcgcfbaeegb dafbfbddcag dacea ebdfggfddadgdf eddbfaaaebgcg fabegdbegfaadeffegecabbacdcabgfbagab fa fbcg  faegbgccedgfg cacae badgfde gebeec b efd</td>\n",
       "            </tr>\n",
       "            <tr>\n",
       "                        <th id=\"T_df82d0c6_650c_11ea_962e_acde48001122level0_row4\" class=\"row_heading level0 row4\" >4</th>\n",
       "                        <td id=\"T_df82d0c6_650c_11ea_962e_acde48001122row4_col0\" class=\"data row4 col0\" >-0.020</td>\n",
       "                        <td id=\"T_df82d0c6_650c_11ea_962e_acde48001122row4_col1\" class=\"data row4 col1\" >befffaaacagfe dfgec cedgbaacefabege acdga eb agaccfcffdbdeb gccafeb feabgd afecb dddgbacgfgbcagegeg ge fgcfaefabedcf acgbacffbedcffcadcgfbbafcdafdag dadadeabg  gcbbafa b af eefeagbed g dedbffg gf cgcg</td>\n",
       "            </tr>\n",
       "            <tr>\n",
       "                        <th id=\"T_df82d0c6_650c_11ea_962e_acde48001122level0_row5\" class=\"row_heading level0 row5\" >5</th>\n",
       "                        <td id=\"T_df82d0c6_650c_11ea_962e_acde48001122row5_col0\" class=\"data row5 col0\" >0.485</td>\n",
       "                        <td id=\"T_df82d0c6_650c_11ea_962e_acde48001122row5_col1\" class=\"data row5 col1\" >dc dced adbafggfbebdeda gdc gbgafbb acecdgd ed dabdbedebdf bgcgbbbe gca de  dfebeffge dbbgfcggd aaeddabef bgfgaaebaceegccgb dega dgdbedbbd ccdaefadadebbge gec dgbdd cc bbffdcfdacbdg bgaddeb  gac ea cg</td>\n",
       "            </tr>\n",
       "            <tr>\n",
       "                        <th id=\"T_df82d0c6_650c_11ea_962e_acde48001122level0_row6\" class=\"row_heading level0 row6\" >6</th>\n",
       "                        <td id=\"T_df82d0c6_650c_11ea_962e_acde48001122row6_col0\" class=\"data row6 col0\" >-0.123</td>\n",
       "                        <td id=\"T_df82d0c6_650c_11ea_962e_acde48001122row6_col1\" class=\"data row6 col1\" >ebafadbg bcd dfdacc begfdfdgcdca cegbbfgcdag abeg abebcaee bcadgce efgcd gb dc  gagdfbdgagf ebgedggdd fgbefdf    fcefdgbd eecdgaeceefacfg acb cfbgbad gdceadaed ebcgagffbagb a ddbdceac fecfabgf fff egd</td>\n",
       "            </tr>\n",
       "            <tr>\n",
       "                        <th id=\"T_df82d0c6_650c_11ea_962e_acde48001122level0_row7\" class=\"row_heading level0 row7\" >7</th>\n",
       "                        <td id=\"T_df82d0c6_650c_11ea_962e_acde48001122row7_col0\" class=\"data row7 col0\" >0.250</td>\n",
       "                        <td id=\"T_df82d0c6_650c_11ea_962e_acde48001122row7_col1\" class=\"data row7 col1\" >cba afgaff debagaaggbgbfdb ggaceefg bbeddg f ffegagdecgafddcegggab faebeadgde efbcgbd accdaeedbcbdeff aa cfgg cdagdgf d bfbaebdg   g fdcceg d bg ff bcaefeaceedcg gebdgg egga gdbebdfaeaeee ec a cfeefc </td>\n",
       "            </tr>\n",
       "            <tr>\n",
       "                        <th id=\"T_df82d0c6_650c_11ea_962e_acde48001122level0_row8\" class=\"row_heading level0 row8\" >8</th>\n",
       "                        <td id=\"T_df82d0c6_650c_11ea_962e_acde48001122row8_col0\" class=\"data row8 col0\" >-0.107</td>\n",
       "                        <td id=\"T_df82d0c6_650c_11ea_962e_acde48001122row8_col1\" class=\"data row8 col1\" >gbafe c ea fbdbegad cadfgbaf   a fabddcfg  egdb  bgcgg gbgddgdbdadcgcegeaeggfe  afdgeedefebcb gcaabcdecaacafdgfaefgggaabcddbfceaebf fec ggbc  ddddfgecabeef ggbgcfagebadbeb dcgfcdegffegbcadeg cgeeabcbe</td>\n",
       "            </tr>\n",
       "            <tr>\n",
       "                        <th id=\"T_df82d0c6_650c_11ea_962e_acde48001122level0_row9\" class=\"row_heading level0 row9\" >9</th>\n",
       "                        <td id=\"T_df82d0c6_650c_11ea_962e_acde48001122row9_col0\" class=\"data row9 col0\" >0.329</td>\n",
       "                        <td id=\"T_df82d0c6_650c_11ea_962e_acde48001122row9_col1\" class=\"data row9 col1\" >dfdfecfgcga bde fbdea ebfafceaffegfbcagagbbf d cfdadbfegedeecafeaacdbfa  dafdaadedccgcaffffgce fgf dddedbafbf  caf cd dabgfega efgcfg adc b f faaca fcaega edagee  dcaceeea db babbcadg cbgecgbggge ba d</td>\n",
       "            </tr>\n",
       "    </tbody></table>"
      ],
      "text/plain": [
       "<pandas.io.formats.style.Styler at 0x1254b6630>"
      ]
     },
     "execution_count": 99,
     "metadata": {},
     "output_type": "execute_result"
    }
   ],
   "source": [
    "from pandas.api.types import is_numeric_dtype\n",
    "\n",
    "def color_negative_red(val):\n",
    "    if (isinstance(val, (int, float, complex))):\n",
    "        color = 'red' if(val<0) else 'black'\n",
    "    else:\n",
    "        color = 'black'\n",
    "    return 'color: %s' % color\n",
    "\n",
    "df.style.applymap(color_negative_red)"
   ]
  },
  {
   "cell_type": "code",
   "execution_count": 100,
   "metadata": {},
   "outputs": [
    {
     "data": {
      "text/html": [
       "<style  type=\"text/css\" >\n",
       "    #T_e0425946_650c_11ea_8bb5_acde48001122 tr:hover {\n",
       "          background-color: yellow;\n",
       "    }</style><table id=\"T_e0425946_650c_11ea_8bb5_acde48001122\" ><thead>    <tr>        <th class=\"blank level0\" ></th>        <th class=\"col_heading level0 col0\" >col1</th>        <th class=\"col_heading level0 col1\" >text</th>    </tr></thead><tbody>\n",
       "                <tr>\n",
       "                        <th id=\"T_e0425946_650c_11ea_8bb5_acde48001122level0_row0\" class=\"row_heading level0 row0\" >0</th>\n",
       "                        <td id=\"T_e0425946_650c_11ea_8bb5_acde48001122row0_col0\" class=\"data row0 col0\" >0.000</td>\n",
       "                        <td id=\"T_e0425946_650c_11ea_8bb5_acde48001122row0_col1\" class=\"data row0 col1\" >bg ca fbeefggbgg gabfaedeabacgff ge fggf dc  ebafagfacddaegcbe agbgfd dafdeca bgcdagbfa baggbgadg afaebb   gdbeg aga egbccda e  ced fgggc ecdaa bfe ffabddg cbbfg beaccegebd bgfaecdbfgd bdbbfbbdgaae ae</td>\n",
       "            </tr>\n",
       "            <tr>\n",
       "                        <th id=\"T_e0425946_650c_11ea_8bb5_acde48001122level0_row1\" class=\"row_heading level0 row1\" >1</th>\n",
       "                        <td id=\"T_e0425946_650c_11ea_8bb5_acde48001122row1_col0\" class=\"data row1 col0\" >-0.335</td>\n",
       "                        <td id=\"T_e0425946_650c_11ea_8bb5_acde48001122row1_col1\" class=\"data row1 col1\" >geeeafbfbdec bbcgaagagbeebgggbb  cecag aaffceae  f ceaadadbfbgb fgccee gebefdcfbabacgddecc   afecgcdffedeecbdabbff gebfbdffdcd fad db fcfcdcedecbdf gfgca ddfaageffaecea cgcff cd agcf dgaaffccgcdbg fab</td>\n",
       "            </tr>\n",
       "            <tr>\n",
       "                        <th id=\"T_e0425946_650c_11ea_8bb5_acde48001122level0_row2\" class=\"row_heading level0 row2\" >2</th>\n",
       "                        <td id=\"T_e0425946_650c_11ea_8bb5_acde48001122row2_col0\" class=\"data row2 col0\" >-0.089</td>\n",
       "                        <td id=\"T_e0425946_650c_11ea_8bb5_acde48001122row2_col1\" class=\"data row2 col1\" >bfdc adebe  fggd bd  aafdcbccdgf fd geefbcfgcccadegeecgbda bgagdefbagdccbgcgaec f badgdafgfgcfagebcdfcagabba becdgadgafeeed cbdcg  gddbbaededa  fgecbbab e cbdbbcgf egadacdbcb b aecdc fbbfcagdaebgfc cg</td>\n",
       "            </tr>\n",
       "            <tr>\n",
       "                        <th id=\"T_e0425946_650c_11ea_8bb5_acde48001122level0_row3\" class=\"row_heading level0 row3\" >3</th>\n",
       "                        <td id=\"T_e0425946_650c_11ea_8bb5_acde48001122row3_col0\" class=\"data row3 col0\" >0.278</td>\n",
       "                        <td id=\"T_e0425946_650c_11ea_8bb5_acde48001122row3_col1\" class=\"data row3 col1\" >bbafdbaab cfbdgccdabd acabeabeggbdga  c caefaagdfdddfabgcgcfbaeegb dafbfbddcag dacea ebdfggfddadgdf eddbfaaaebgcg fabegdbegfaadeffegecabbacdcabgfbagab fa fbcg  faegbgccedgfg cacae badgfde gebeec b efd</td>\n",
       "            </tr>\n",
       "            <tr>\n",
       "                        <th id=\"T_e0425946_650c_11ea_8bb5_acde48001122level0_row4\" class=\"row_heading level0 row4\" >4</th>\n",
       "                        <td id=\"T_e0425946_650c_11ea_8bb5_acde48001122row4_col0\" class=\"data row4 col0\" >-0.020</td>\n",
       "                        <td id=\"T_e0425946_650c_11ea_8bb5_acde48001122row4_col1\" class=\"data row4 col1\" >befffaaacagfe dfgec cedgbaacefabege acdga eb agaccfcffdbdeb gccafeb feabgd afecb dddgbacgfgbcagegeg ge fgcfaefabedcf acgbacffbedcffcadcgfbbafcdafdag dadadeabg  gcbbafa b af eefeagbed g dedbffg gf cgcg</td>\n",
       "            </tr>\n",
       "            <tr>\n",
       "                        <th id=\"T_e0425946_650c_11ea_8bb5_acde48001122level0_row5\" class=\"row_heading level0 row5\" >5</th>\n",
       "                        <td id=\"T_e0425946_650c_11ea_8bb5_acde48001122row5_col0\" class=\"data row5 col0\" >0.485</td>\n",
       "                        <td id=\"T_e0425946_650c_11ea_8bb5_acde48001122row5_col1\" class=\"data row5 col1\" >dc dced adbafggfbebdeda gdc gbgafbb acecdgd ed dabdbedebdf bgcgbbbe gca de  dfebeffge dbbgfcggd aaeddabef bgfgaaebaceegccgb dega dgdbedbbd ccdaefadadebbge gec dgbdd cc bbffdcfdacbdg bgaddeb  gac ea cg</td>\n",
       "            </tr>\n",
       "            <tr>\n",
       "                        <th id=\"T_e0425946_650c_11ea_8bb5_acde48001122level0_row6\" class=\"row_heading level0 row6\" >6</th>\n",
       "                        <td id=\"T_e0425946_650c_11ea_8bb5_acde48001122row6_col0\" class=\"data row6 col0\" >-0.123</td>\n",
       "                        <td id=\"T_e0425946_650c_11ea_8bb5_acde48001122row6_col1\" class=\"data row6 col1\" >ebafadbg bcd dfdacc begfdfdgcdca cegbbfgcdag abeg abebcaee bcadgce efgcd gb dc  gagdfbdgagf ebgedggdd fgbefdf    fcefdgbd eecdgaeceefacfg acb cfbgbad gdceadaed ebcgagffbagb a ddbdceac fecfabgf fff egd</td>\n",
       "            </tr>\n",
       "            <tr>\n",
       "                        <th id=\"T_e0425946_650c_11ea_8bb5_acde48001122level0_row7\" class=\"row_heading level0 row7\" >7</th>\n",
       "                        <td id=\"T_e0425946_650c_11ea_8bb5_acde48001122row7_col0\" class=\"data row7 col0\" >0.250</td>\n",
       "                        <td id=\"T_e0425946_650c_11ea_8bb5_acde48001122row7_col1\" class=\"data row7 col1\" >cba afgaff debagaaggbgbfdb ggaceefg bbeddg f ffegagdecgafddcegggab faebeadgde efbcgbd accdaeedbcbdeff aa cfgg cdagdgf d bfbaebdg   g fdcceg d bg ff bcaefeaceedcg gebdgg egga gdbebdfaeaeee ec a cfeefc </td>\n",
       "            </tr>\n",
       "            <tr>\n",
       "                        <th id=\"T_e0425946_650c_11ea_8bb5_acde48001122level0_row8\" class=\"row_heading level0 row8\" >8</th>\n",
       "                        <td id=\"T_e0425946_650c_11ea_8bb5_acde48001122row8_col0\" class=\"data row8 col0\" >-0.107</td>\n",
       "                        <td id=\"T_e0425946_650c_11ea_8bb5_acde48001122row8_col1\" class=\"data row8 col1\" >gbafe c ea fbdbegad cadfgbaf   a fabddcfg  egdb  bgcgg gbgddgdbdadcgcegeaeggfe  afdgeedefebcb gcaabcdecaacafdgfaefgggaabcddbfceaebf fec ggbc  ddddfgecabeef ggbgcfagebadbeb dcgfcdegffegbcadeg cgeeabcbe</td>\n",
       "            </tr>\n",
       "            <tr>\n",
       "                        <th id=\"T_e0425946_650c_11ea_8bb5_acde48001122level0_row9\" class=\"row_heading level0 row9\" >9</th>\n",
       "                        <td id=\"T_e0425946_650c_11ea_8bb5_acde48001122row9_col0\" class=\"data row9 col0\" >0.329</td>\n",
       "                        <td id=\"T_e0425946_650c_11ea_8bb5_acde48001122row9_col1\" class=\"data row9 col1\" >dfdfecfgcga bde fbdea ebfafceaffegfbcagagbbf d cfdadbfegedeecafeaacdbfa  dafdaadedccgcaffffgce fgf dddedbafbf  caf cd dabgfega efgcfg adc b f faaca fcaega edagee  dcaceeea db babbcadg cbgecgbggge ba d</td>\n",
       "            </tr>\n",
       "    </tbody></table>"
      ],
      "text/plain": [
       "<pandas.io.formats.style.Styler at 0x1254a4a20>"
      ]
     },
     "execution_count": 100,
     "metadata": {},
     "output_type": "execute_result"
    }
   ],
   "source": [
    "df.style.set_table_styles(\n",
    "[{'selector': 'tr:hover',\n",
    "  'props': [('background-color', 'yellow')]}]\n",
    ")"
   ]
  },
  {
   "cell_type": "markdown",
   "metadata": {},
   "source": [
    "## test df"
   ]
  },
  {
   "cell_type": "code",
   "execution_count": 26,
   "metadata": {},
   "outputs": [
    {
     "data": {
      "text/html": [
       "<div>\n",
       "<style scoped>\n",
       "    .dataframe tbody tr th:only-of-type {\n",
       "        vertical-align: middle;\n",
       "    }\n",
       "\n",
       "    .dataframe tbody tr th {\n",
       "        vertical-align: top;\n",
       "    }\n",
       "\n",
       "    .dataframe thead th {\n",
       "        text-align: right;\n",
       "    }\n",
       "</style>\n",
       "<table border=\"1\" class=\"dataframe\">\n",
       "  <thead>\n",
       "    <tr style=\"text-align: right;\">\n",
       "      <th></th>\n",
       "      <th>A</th>\n",
       "      <th>B</th>\n",
       "      <th>C</th>\n",
       "      <th>D</th>\n",
       "    </tr>\n",
       "  </thead>\n",
       "  <tbody>\n",
       "    <tr>\n",
       "      <th>0</th>\n",
       "      <td>0.0000000000</td>\n",
       "      <td>0.0000000000</td>\n",
       "      <td>foo1</td>\n",
       "      <td>2009-01-01</td>\n",
       "    </tr>\n",
       "    <tr>\n",
       "      <th>1</th>\n",
       "      <td>1.0000000000</td>\n",
       "      <td>1.0000000000</td>\n",
       "      <td>foo2</td>\n",
       "      <td>2009-01-02</td>\n",
       "    </tr>\n",
       "    <tr>\n",
       "      <th>2</th>\n",
       "      <td>2.0000000000</td>\n",
       "      <td>0.0000000000</td>\n",
       "      <td>foo3</td>\n",
       "      <td>2009-01-05</td>\n",
       "    </tr>\n",
       "    <tr>\n",
       "      <th>3</th>\n",
       "      <td>3.0000000000</td>\n",
       "      <td>1.0000000000</td>\n",
       "      <td>foo4</td>\n",
       "      <td>2009-01-06</td>\n",
       "    </tr>\n",
       "    <tr>\n",
       "      <th>4</th>\n",
       "      <td>4.0000000000</td>\n",
       "      <td>0.0000000000</td>\n",
       "      <td>foo5</td>\n",
       "      <td>2009-01-07</td>\n",
       "    </tr>\n",
       "  </tbody>\n",
       "</table>\n",
       "</div>"
      ],
      "text/plain": [
       "             A            B     C          D\n",
       "0 0.0000000000 0.0000000000  foo1 2009-01-01\n",
       "1 1.0000000000 1.0000000000  foo2 2009-01-02\n",
       "2 2.0000000000 0.0000000000  foo3 2009-01-05\n",
       "3 3.0000000000 1.0000000000  foo4 2009-01-06\n",
       "4 4.0000000000 0.0000000000  foo5 2009-01-07"
      ]
     },
     "execution_count": 26,
     "metadata": {},
     "output_type": "execute_result"
    }
   ],
   "source": [
    "from pandas import util\n",
    "df= util.testing.makeMixedDataFrame()\n",
    "df.head()"
   ]
  },
  {
   "cell_type": "code",
   "execution_count": 32,
   "metadata": {},
   "outputs": [],
   "source": [
    "df['cat']=df.col1.apply(lambda x: 'A' if x < 0 else ('B' if x<0.1 else 'C' ))"
   ]
  },
  {
   "cell_type": "code",
   "execution_count": 91,
   "metadata": {},
   "outputs": [
    {
     "data": {
      "text/html": [
       "<div>\n",
       "<style scoped>\n",
       "    .dataframe tbody tr th:only-of-type {\n",
       "        vertical-align: middle;\n",
       "    }\n",
       "\n",
       "    .dataframe tbody tr th {\n",
       "        vertical-align: top;\n",
       "    }\n",
       "\n",
       "    .dataframe thead th {\n",
       "        text-align: right;\n",
       "    }\n",
       "</style>\n",
       "<table border=\"1\" class=\"dataframe\">\n",
       "  <thead>\n",
       "    <tr style=\"text-align: right;\">\n",
       "      <th></th>\n",
       "      <th>mean</th>\n",
       "      <th>sum</th>\n",
       "      <th>Y</th>\n",
       "    </tr>\n",
       "    <tr>\n",
       "      <th>cat</th>\n",
       "      <th></th>\n",
       "      <th></th>\n",
       "      <th></th>\n",
       "    </tr>\n",
       "  </thead>\n",
       "  <tbody>\n",
       "    <tr>\n",
       "      <th>A</th>\n",
       "      <td>-0.2363530756</td>\n",
       "      <td>-12.2903599298</td>\n",
       "      <td>87.7636469244</td>\n",
       "    </tr>\n",
       "    <tr>\n",
       "      <th>B</th>\n",
       "      <td>0.0581277726</td>\n",
       "      <td>0.5231499536</td>\n",
       "      <td>88.0581277726</td>\n",
       "    </tr>\n",
       "    <tr>\n",
       "      <th>C</th>\n",
       "      <td>0.3254990079</td>\n",
       "      <td>12.6944613100</td>\n",
       "      <td>88.3254990079</td>\n",
       "    </tr>\n",
       "  </tbody>\n",
       "</table>\n",
       "</div>"
      ],
      "text/plain": [
       "             mean            sum             Y\n",
       "cat                                           \n",
       "A   -0.2363530756 -12.2903599298 87.7636469244\n",
       "B    0.0581277726   0.5231499536 88.0581277726\n",
       "C    0.3254990079  12.6944613100 88.3254990079"
      ]
     },
     "execution_count": 91,
     "metadata": {},
     "output_type": "execute_result"
    }
   ],
   "source": [
    "(df\n",
    " .groupby('cat')\n",
    " .agg({'col1':['mean','sum']})\n",
    " .xs('col1', axis=1, drop_level=True)\n",
    " .eval('Y=mean+88')\n",
    ")\n",
    "\n",
    "#eval('mean/sum')\n"
   ]
  },
  {
   "cell_type": "code",
   "execution_count": 66,
   "metadata": {},
   "outputs": [
    {
     "data": {
      "text/html": [
       "<div>\n",
       "<style scoped>\n",
       "    .dataframe tbody tr th:only-of-type {\n",
       "        vertical-align: middle;\n",
       "    }\n",
       "\n",
       "    .dataframe tbody tr th {\n",
       "        vertical-align: top;\n",
       "    }\n",
       "\n",
       "    .dataframe thead th {\n",
       "        text-align: right;\n",
       "    }\n",
       "</style>\n",
       "<table border=\"1\" class=\"dataframe\">\n",
       "  <thead>\n",
       "    <tr style=\"text-align: right;\">\n",
       "      <th></th>\n",
       "      <th>mean</th>\n",
       "      <th>sum</th>\n",
       "    </tr>\n",
       "    <tr>\n",
       "      <th>cat</th>\n",
       "      <th></th>\n",
       "      <th></th>\n",
       "    </tr>\n",
       "  </thead>\n",
       "  <tbody>\n",
       "    <tr>\n",
       "      <th>A</th>\n",
       "      <td>-0.2363530756</td>\n",
       "      <td>-12.2903599298</td>\n",
       "    </tr>\n",
       "    <tr>\n",
       "      <th>B</th>\n",
       "      <td>0.0581277726</td>\n",
       "      <td>0.5231499536</td>\n",
       "    </tr>\n",
       "    <tr>\n",
       "      <th>C</th>\n",
       "      <td>0.3254990079</td>\n",
       "      <td>12.6944613100</td>\n",
       "    </tr>\n",
       "  </tbody>\n",
       "</table>\n",
       "</div>"
      ],
      "text/plain": [
       "             mean            sum\n",
       "cat                             \n",
       "A   -0.2363530756 -12.2903599298\n",
       "B    0.0581277726   0.5231499536\n",
       "C    0.3254990079  12.6944613100"
      ]
     },
     "execution_count": 66,
     "metadata": {},
     "output_type": "execute_result"
    }
   ],
   "source": [
    "A=A.xs('col1', axis=1, drop_level=True)\n",
    "A.eval('W=mean+sum')"
   ]
  },
  {
   "cell_type": "code",
   "execution_count": 68,
   "metadata": {},
   "outputs": [
    {
     "name": "stderr",
     "output_type": "stream",
     "text": [
      "/Users/tomas/miniconda3/envs/py36/lib/python3.6/site-packages/ipykernel_launcher.py:1: SettingWithCopyWarning: \n",
      "A value is trying to be set on a copy of a slice from a DataFrame.\n",
      "Try using .loc[row_indexer,col_indexer] = value instead\n",
      "\n",
      "See the caveats in the documentation: https://pandas.pydata.org/pandas-docs/stable/user_guide/indexing.html#returning-a-view-versus-a-copy\n",
      "  \"\"\"Entry point for launching an IPython kernel.\n"
     ]
    }
   ],
   "source": [
    "A['d']=A['mean']+A['sum']"
   ]
  },
  {
   "cell_type": "code",
   "execution_count": 69,
   "metadata": {},
   "outputs": [
    {
     "data": {
      "text/html": [
       "<div>\n",
       "<style scoped>\n",
       "    .dataframe tbody tr th:only-of-type {\n",
       "        vertical-align: middle;\n",
       "    }\n",
       "\n",
       "    .dataframe tbody tr th {\n",
       "        vertical-align: top;\n",
       "    }\n",
       "\n",
       "    .dataframe thead th {\n",
       "        text-align: right;\n",
       "    }\n",
       "</style>\n",
       "<table border=\"1\" class=\"dataframe\">\n",
       "  <thead>\n",
       "    <tr style=\"text-align: right;\">\n",
       "      <th></th>\n",
       "      <th>mean</th>\n",
       "      <th>sum</th>\n",
       "      <th>d</th>\n",
       "    </tr>\n",
       "    <tr>\n",
       "      <th>cat</th>\n",
       "      <th></th>\n",
       "      <th></th>\n",
       "      <th></th>\n",
       "    </tr>\n",
       "  </thead>\n",
       "  <tbody>\n",
       "    <tr>\n",
       "      <th>A</th>\n",
       "      <td>-0.2363530756</td>\n",
       "      <td>-12.2903599298</td>\n",
       "      <td>-12.5267130054</td>\n",
       "    </tr>\n",
       "    <tr>\n",
       "      <th>B</th>\n",
       "      <td>0.0581277726</td>\n",
       "      <td>0.5231499536</td>\n",
       "      <td>0.5812777262</td>\n",
       "    </tr>\n",
       "    <tr>\n",
       "      <th>C</th>\n",
       "      <td>0.3254990079</td>\n",
       "      <td>12.6944613100</td>\n",
       "      <td>13.0199603179</td>\n",
       "    </tr>\n",
       "  </tbody>\n",
       "</table>\n",
       "</div>"
      ],
      "text/plain": [
       "             mean            sum              d\n",
       "cat                                            \n",
       "A   -0.2363530756 -12.2903599298 -12.5267130054\n",
       "B    0.0581277726   0.5231499536   0.5812777262\n",
       "C    0.3254990079  12.6944613100  13.0199603179"
      ]
     },
     "execution_count": 69,
     "metadata": {},
     "output_type": "execute_result"
    }
   ],
   "source": [
    "A"
   ]
  },
  {
   "cell_type": "code",
   "execution_count": 101,
   "metadata": {},
   "outputs": [
    {
     "name": "stdout",
     "output_type": "stream",
     "text": [
      "/Users/tomas/OneDrive - C Finance Oy/analytics/pandas_customizations\n"
     ]
    }
   ],
   "source": [
    "!pwd"
   ]
  },
  {
   "cell_type": "code",
   "execution_count": null,
   "metadata": {},
   "outputs": [],
   "source": []
  }
 ],
 "metadata": {
  "kernelspec": {
   "display_name": "Python 3",
   "language": "python",
   "name": "python3"
  },
  "language_info": {
   "codemirror_mode": {
    "name": "ipython",
    "version": 3
   },
   "file_extension": ".py",
   "mimetype": "text/x-python",
   "name": "python",
   "nbconvert_exporter": "python",
   "pygments_lexer": "ipython3",
   "version": "3.6.10"
  }
 },
 "nbformat": 4,
 "nbformat_minor": 4
}
