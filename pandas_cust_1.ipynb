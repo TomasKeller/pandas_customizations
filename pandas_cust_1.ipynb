{
 "cells": [
  {
   "cell_type": "markdown",
   "metadata": {},
   "source": [
    "# input from many sources\n",
    "- https://towardsdatascience.com/become-a-pandas-power-user-with-these-display-customizations-6d3a5a5885c1"
   ]
  },
  {
   "cell_type": "code",
   "execution_count": 1,
   "metadata": {},
   "outputs": [
    {
     "name": "stdout",
     "output_type": "stream",
     "text": [
      "System\n",
      "os name: posix\n",
      "system: Darwin\n",
      "release: 19.3.0\n",
      "\n",
      "Python\n",
      "version: 3.6.10\n",
      "\n",
      "Python Packages\n",
      "jupterlab==1.0.2\n",
      "pandas==1.0.1\n"
     ]
    },
    {
     "name": "stderr",
     "output_type": "stream",
     "text": [
      "/Users/tomas/miniconda3/envs/py36/lib/python3.6/site-packages/ipykernel_launcher.py:20: FutureWarning: The pandas.np module is deprecated and will be removed from pandas in a future version. Import numpy directly instead\n"
     ]
    }
   ],
   "source": [
    "import os\n",
    "import platform\n",
    "from platform import python_version\n",
    "import jupyterlab\n",
    "import pandas as pd\n",
    "import random\n",
    "print(\"System\")\n",
    "print(\"os name: %s\" % os.name)\n",
    "print(\"system: %s\" % platform.system())\n",
    "print(\"release: %s\" % platform.release())\n",
    "print()\n",
    "print(\"Python\")\n",
    "print(\"version: %s\" % python_version())\n",
    "print()\n",
    "print(\"Python Packages\")\n",
    "print(\"jupterlab==%s\" % jupyterlab.__version__)\n",
    "print(\"pandas==%s\" % pd.__version__)\n",
    "seed = 42\n",
    "random.seed(seed)\n",
    "pd.np.random.seed(seed)"
   ]
  },
  {
   "cell_type": "code",
   "execution_count": 2,
   "metadata": {},
   "outputs": [
    {
     "name": "stderr",
     "output_type": "stream",
     "text": [
      "/Users/tomas/miniconda3/envs/py36/lib/python3.6/site-packages/ipykernel_launcher.py:6: FutureWarning: The pandas.np module is deprecated and will be removed from pandas in a future version. Import numpy directly instead\n",
      "  \n"
     ]
    },
    {
     "data": {
      "text/plain": [
       "(100, 2)"
      ]
     },
     "execution_count": 2,
     "metadata": {},
     "output_type": "execute_result"
    }
   ],
   "source": [
    "def generate_sentence(n_chars=200):\n",
    "    return ''.join(random.choice('abcdefg ') for _ in range(n_chars))\n",
    "n = 100\n",
    "df = pd.DataFrame(\n",
    "    {\n",
    "        \"col1\": pd.np.random.random_sample(n),\n",
    "        \"text\": [generate_sentence() for _ in range(n)]\n",
    "    }\n",
    ")\n",
    "df.shape"
   ]
  },
  {
   "cell_type": "code",
   "execution_count": 3,
   "metadata": {},
   "outputs": [
    {
     "data": {
      "text/html": [
       "<div>\n",
       "<style scoped>\n",
       "    .dataframe tbody tr th:only-of-type {\n",
       "        vertical-align: middle;\n",
       "    }\n",
       "\n",
       "    .dataframe tbody tr th {\n",
       "        vertical-align: top;\n",
       "    }\n",
       "\n",
       "    .dataframe thead th {\n",
       "        text-align: right;\n",
       "    }\n",
       "</style>\n",
       "<table border=\"1\" class=\"dataframe\">\n",
       "  <thead>\n",
       "    <tr style=\"text-align: right;\">\n",
       "      <th></th>\n",
       "      <th>col1</th>\n",
       "      <th>text</th>\n",
       "    </tr>\n",
       "  </thead>\n",
       "  <tbody>\n",
       "    <tr>\n",
       "      <th>0</th>\n",
       "      <td>0.374540</td>\n",
       "      <td>baeddcbbgaabddadgd eacgfecdfbbgbffea bgbefdbad...</td>\n",
       "    </tr>\n",
       "    <tr>\n",
       "      <th>1</th>\n",
       "      <td>0.950714</td>\n",
       "      <td>aabdcg  dgacgage eg cdedaafaa cabcbbdgbdabgfed...</td>\n",
       "    </tr>\n",
       "    <tr>\n",
       "      <th>2</th>\n",
       "      <td>0.731994</td>\n",
       "      <td>befbdeddcaad b gdg gdcabgdc adb c f g c  ede d...</td>\n",
       "    </tr>\n",
       "    <tr>\n",
       "      <th>3</th>\n",
       "      <td>0.598658</td>\n",
       "      <td>bedgdef fgff eeedbdfbcdd eebdedfceaceaaec bae ...</td>\n",
       "    </tr>\n",
       "    <tr>\n",
       "      <th>4</th>\n",
       "      <td>0.156019</td>\n",
       "      <td>eaee c  ffg fddgdgaf ggc acfb b acgcb efgbfgf ...</td>\n",
       "    </tr>\n",
       "    <tr>\n",
       "      <th>...</th>\n",
       "      <td>...</td>\n",
       "      <td>...</td>\n",
       "    </tr>\n",
       "    <tr>\n",
       "      <th>95</th>\n",
       "      <td>0.493796</td>\n",
       "      <td>fdfegeafbadac daec gdgcbeee bdfdagag geacce ef...</td>\n",
       "    </tr>\n",
       "    <tr>\n",
       "      <th>96</th>\n",
       "      <td>0.522733</td>\n",
       "      <td>d bda ccbbdga bg ccbaefegb bcb a eedgacdeeccfc...</td>\n",
       "    </tr>\n",
       "    <tr>\n",
       "      <th>97</th>\n",
       "      <td>0.427541</td>\n",
       "      <td>aaaeddgbbd bbbfbfefcecadeabfdfdegga fgeeegg ca...</td>\n",
       "    </tr>\n",
       "    <tr>\n",
       "      <th>98</th>\n",
       "      <td>0.025419</td>\n",
       "      <td>e eccdfedeaeggcbcbfgefcfecageebbb dbc dagdedfe...</td>\n",
       "    </tr>\n",
       "    <tr>\n",
       "      <th>99</th>\n",
       "      <td>0.107891</td>\n",
       "      <td>fabgecgba addfaecedbdceebdaaebgbafdacbfbg fgeg...</td>\n",
       "    </tr>\n",
       "  </tbody>\n",
       "</table>\n",
       "<p>100 rows × 2 columns</p>\n",
       "</div>"
      ],
      "text/plain": [
       "        col1                                               text\n",
       "0   0.374540  baeddcbbgaabddadgd eacgfecdfbbgbffea bgbefdbad...\n",
       "1   0.950714  aabdcg  dgacgage eg cdedaafaa cabcbbdgbdabgfed...\n",
       "2   0.731994  befbdeddcaad b gdg gdcabgdc adb c f g c  ede d...\n",
       "3   0.598658  bedgdef fgff eeedbdfbcdd eebdedfceaceaaec bae ...\n",
       "4   0.156019  eaee c  ffg fddgdgaf ggc acfb b acgcb efgbfgf ...\n",
       "..       ...                                                ...\n",
       "95  0.493796  fdfegeafbadac daec gdgcbeee bdfdagag geacce ef...\n",
       "96  0.522733  d bda ccbbdga bg ccbaefegb bcb a eedgacdeeccfc...\n",
       "97  0.427541  aaaeddgbbd bbbfbfefcecadeabfdfdegga fgeeegg ca...\n",
       "98  0.025419  e eccdfedeaeggcbcbfgefcfecageebbb dbc dagdedfe...\n",
       "99  0.107891  fabgecgba addfaecedbdceebdaaebgbafdacbfbg fgeg...\n",
       "\n",
       "[100 rows x 2 columns]"
      ]
     },
     "execution_count": 3,
     "metadata": {},
     "output_type": "execute_result"
    }
   ],
   "source": [
    "df"
   ]
  },
  {
   "cell_type": "markdown",
   "metadata": {},
   "source": [
    "## Suppress scientific notation\n"
   ]
  },
  {
   "cell_type": "code",
   "execution_count": 4,
   "metadata": {},
   "outputs": [
    {
     "data": {
      "text/html": [
       "<div>\n",
       "<style scoped>\n",
       "    .dataframe tbody tr th:only-of-type {\n",
       "        vertical-align: middle;\n",
       "    }\n",
       "\n",
       "    .dataframe tbody tr th {\n",
       "        vertical-align: top;\n",
       "    }\n",
       "\n",
       "    .dataframe thead th {\n",
       "        text-align: right;\n",
       "    }\n",
       "</style>\n",
       "<table border=\"1\" class=\"dataframe\">\n",
       "  <thead>\n",
       "    <tr style=\"text-align: right;\">\n",
       "      <th></th>\n",
       "      <th>col1</th>\n",
       "      <th>text</th>\n",
       "    </tr>\n",
       "  </thead>\n",
       "  <tbody>\n",
       "    <tr>\n",
       "      <th>0</th>\n",
       "      <td>1.000000e-10</td>\n",
       "      <td>baeddcbbgaabddadgd eacgfecdfbbgbffea bgbefdbad...</td>\n",
       "    </tr>\n",
       "    <tr>\n",
       "      <th>1</th>\n",
       "      <td>9.507143e-01</td>\n",
       "      <td>aabdcg  dgacgage eg cdedaafaa cabcbbdgbdabgfed...</td>\n",
       "    </tr>\n",
       "    <tr>\n",
       "      <th>2</th>\n",
       "      <td>7.319939e-01</td>\n",
       "      <td>befbdeddcaad b gdg gdcabgdc adb c f g c  ede d...</td>\n",
       "    </tr>\n",
       "    <tr>\n",
       "      <th>3</th>\n",
       "      <td>5.986585e-01</td>\n",
       "      <td>bedgdef fgff eeedbdfbcdd eebdedfceaceaaec bae ...</td>\n",
       "    </tr>\n",
       "    <tr>\n",
       "      <th>4</th>\n",
       "      <td>1.560186e-01</td>\n",
       "      <td>eaee c  ffg fddgdgaf ggc acfb b acgcb efgbfgf ...</td>\n",
       "    </tr>\n",
       "  </tbody>\n",
       "</table>\n",
       "</div>"
      ],
      "text/plain": [
       "           col1                                               text\n",
       "0  1.000000e-10  baeddcbbgaabddadgd eacgfecdfbbgbffea bgbefdbad...\n",
       "1  9.507143e-01  aabdcg  dgacgage eg cdedaafaa cabcbbdgbdabgfed...\n",
       "2  7.319939e-01  befbdeddcaad b gdg gdcabgdc adb c f g c  ede d...\n",
       "3  5.986585e-01  bedgdef fgff eeedbdfbcdd eebdedfceaceaaec bae ...\n",
       "4  1.560186e-01  eaee c  ffg fddgdgaf ggc acfb b acgcb efgbfgf ..."
      ]
     },
     "execution_count": 4,
     "metadata": {},
     "output_type": "execute_result"
    }
   ],
   "source": [
    "df.iloc[0, 0] = 1e-10\n",
    "df.head()"
   ]
  },
  {
   "cell_type": "code",
   "execution_count": 6,
   "metadata": {},
   "outputs": [
    {
     "data": {
      "text/html": [
       "<div>\n",
       "<style scoped>\n",
       "    .dataframe tbody tr th:only-of-type {\n",
       "        vertical-align: middle;\n",
       "    }\n",
       "\n",
       "    .dataframe tbody tr th {\n",
       "        vertical-align: top;\n",
       "    }\n",
       "\n",
       "    .dataframe thead th {\n",
       "        text-align: right;\n",
       "    }\n",
       "</style>\n",
       "<table border=\"1\" class=\"dataframe\">\n",
       "  <thead>\n",
       "    <tr style=\"text-align: right;\">\n",
       "      <th></th>\n",
       "      <th>col1</th>\n",
       "      <th>text</th>\n",
       "    </tr>\n",
       "  </thead>\n",
       "  <tbody>\n",
       "    <tr>\n",
       "      <th>0</th>\n",
       "      <td>0.0000000001</td>\n",
       "      <td>baeddcbbgaabddadgd eacgfecdfbbgbffea bgbefdbad...</td>\n",
       "    </tr>\n",
       "    <tr>\n",
       "      <th>1</th>\n",
       "      <td>0.9507143064</td>\n",
       "      <td>aabdcg  dgacgage eg cdedaafaa cabcbbdgbdabgfed...</td>\n",
       "    </tr>\n",
       "    <tr>\n",
       "      <th>2</th>\n",
       "      <td>0.7319939418</td>\n",
       "      <td>befbdeddcaad b gdg gdcabgdc adb c f g c  ede d...</td>\n",
       "    </tr>\n",
       "    <tr>\n",
       "      <th>3</th>\n",
       "      <td>0.5986584842</td>\n",
       "      <td>bedgdef fgff eeedbdfbcdd eebdedfceaceaaec bae ...</td>\n",
       "    </tr>\n",
       "    <tr>\n",
       "      <th>4</th>\n",
       "      <td>0.1560186404</td>\n",
       "      <td>eaee c  ffg fddgdgaf ggc acfb b acgcb efgbfgf ...</td>\n",
       "    </tr>\n",
       "  </tbody>\n",
       "</table>\n",
       "</div>"
      ],
      "text/plain": [
       "          col1                                               text\n",
       "0 0.0000000001  baeddcbbgaabddadgd eacgfecdfbbgbffea bgbefdbad...\n",
       "1 0.9507143064  aabdcg  dgacgage eg cdedaafaa cabcbbdgbdabgfed...\n",
       "2 0.7319939418  befbdeddcaad b gdg gdcabgdc adb c f g c  ede d...\n",
       "3 0.5986584842  bedgdef fgff eeedbdfbcdd eebdedfceaceaaec bae ...\n",
       "4 0.1560186404  eaee c  ffg fddgdgaf ggc acfb b acgcb efgbfgf ..."
      ]
     },
     "execution_count": 6,
     "metadata": {},
     "output_type": "execute_result"
    }
   ],
   "source": [
    "pd.options.display.float_format = '{:,.10f}'.format\n",
    "df.head()\n",
    "\n",
    "# use the following to switch back to scifi notation\n",
    "# pd.reset_option('display.float_format')\n"
   ]
  },
  {
   "cell_type": "markdown",
   "metadata": {},
   "source": [
    "## Max columns/rows to display\n"
   ]
  },
  {
   "cell_type": "code",
   "execution_count": 9,
   "metadata": {},
   "outputs": [
    {
     "name": "stdout",
     "output_type": "stream",
     "text": [
      "We are currently using max columns = 100\n",
      "Updated max columns to 100\n"
     ]
    }
   ],
   "source": [
    "print('We are currently using max columns = {}'.format(pd.get_option('display.max_columns')))\n",
    "pd.set_option(\"display.max_columns\", 100)\n",
    "print('Updated max columns to {}'.format(pd.get_option('display.max_columns')))\n"
   ]
  },
  {
   "cell_type": "markdown",
   "metadata": {},
   "source": [
    "## Expand the column width\n"
   ]
  },
  {
   "cell_type": "code",
   "execution_count": 11,
   "metadata": {},
   "outputs": [
    {
     "data": {
      "text/html": [
       "<div>\n",
       "<style scoped>\n",
       "    .dataframe tbody tr th:only-of-type {\n",
       "        vertical-align: middle;\n",
       "    }\n",
       "\n",
       "    .dataframe tbody tr th {\n",
       "        vertical-align: top;\n",
       "    }\n",
       "\n",
       "    .dataframe thead th {\n",
       "        text-align: right;\n",
       "    }\n",
       "</style>\n",
       "<table border=\"1\" class=\"dataframe\">\n",
       "  <thead>\n",
       "    <tr style=\"text-align: right;\">\n",
       "      <th></th>\n",
       "      <th>col1</th>\n",
       "      <th>text</th>\n",
       "    </tr>\n",
       "  </thead>\n",
       "  <tbody>\n",
       "    <tr>\n",
       "      <th>0</th>\n",
       "      <td>0.0000000001</td>\n",
       "      <td>baeddcbbgaabddadgd eacgfecdfbbgbffea bgbefdbadebdbge fcffdebcdc gedfadafgebdfd g cecdeggfdc babccgbgg eabefbegc aecbedcfcaf abfedadbb bcc cegddegf  bddbfaddabadbafbde dc d gdbbgfgg abagfbddd cgce db b</td>\n",
       "    </tr>\n",
       "    <tr>\n",
       "      <th>1</th>\n",
       "      <td>0.9507143064</td>\n",
       "      <td>aabdcg  dgacgage eg cdedaafaa cabcbbdgbdabgfedfdegce fba bbdecfbdfec eaebcebbceedfde eabgeaafcec gabbcafcgcaefafddbfgcdccgacfgdecbga dd feddadgfebefgfabeceabgffgbgdeagadfgbffbeegfgecdggcegaeedgf   d c</td>\n",
       "    </tr>\n",
       "    <tr>\n",
       "      <th>2</th>\n",
       "      <td>0.7319939418</td>\n",
       "      <td>befbdeddcaad b gdg gdcabgdc adb c f g c  ede de bedeffbccdgcdbggf gadggag afeggd deg agfgc cagabgc caegfd ffgegeb aafdbaaddacdc bd efcbcebaeggdbdbebafgfbfag bgf cgce  gefdbe d gfa fc dfefeeadbdg d   a</td>\n",
       "    </tr>\n",
       "    <tr>\n",
       "      <th>3</th>\n",
       "      <td>0.5986584842</td>\n",
       "      <td>bedgdef fgff eeedbdfbcdd eebdedfceaceaaec bae   fcae bbg baccebdbgdg  egeabddebcdcbcag  eadee bdedgbdcecbacee b ege  bagfeabdaeac  ecg b fgffbcfg ega bfefbga gadf  adece  badceagbdb bc eeg  d cgdcbegf</td>\n",
       "    </tr>\n",
       "    <tr>\n",
       "      <th>4</th>\n",
       "      <td>0.1560186404</td>\n",
       "      <td>eaee c  ffg fddgdgaf ggc acfb b acgcb efgbfgf abdedbgbb ceaafaeffgcdgcccbgd cd e ea ecb fege edg bdgfeeageaa edfddecbae afcbefgcdcfece efb bcdgfbgaeb fegfbd afdb egbcaae bbdcg fgcgb geafd  dfbffagedb</td>\n",
       "    </tr>\n",
       "    <tr>\n",
       "      <th>...</th>\n",
       "      <td>...</td>\n",
       "      <td>...</td>\n",
       "    </tr>\n",
       "    <tr>\n",
       "      <th>95</th>\n",
       "      <td>0.4937955964</td>\n",
       "      <td>fdfegeafbadac daec gdgcbeee bdfdagag geacce effbdf c b edagbbgeadedb d  fdddge  aebdaabfdgaccgcfecaebcdbaf  caeebaa ebdcefdba ebcce a cgegdccfb ecceaedcgbbaadeggbgda acg cacaafdggcbfdgaaf  faab dcfaa</td>\n",
       "    </tr>\n",
       "    <tr>\n",
       "      <th>96</th>\n",
       "      <td>0.5227328294</td>\n",
       "      <td>d bda ccbbdga bg ccbaefegb bcb a eedgacdeeccfcbgacfcdebcaee  cgadcgffbdc gb eacefffbgacbbbfbcggege ggcd gaaee ead bba ecbgeaagdgcdfdeege acbdgfegccacbcd caffaddaaaagdeg dbaabbebgaabgcdc d  agafebg egd</td>\n",
       "    </tr>\n",
       "    <tr>\n",
       "      <th>97</th>\n",
       "      <td>0.4275410184</td>\n",
       "      <td>aaaeddgbbd bbbfbfefcecadeabfdfdegga fgeeegg cabaceacbccd eacgcafb efc dfdgecdf aaebcbcfbbgbcffaegbaa cdaeggaabcdc babcdcgbfbcaefa ggfdeegaecc gdegabbfdaf de cedfgb gccfbc cg agggfgcceb g ee  bcadfaagb</td>\n",
       "    </tr>\n",
       "    <tr>\n",
       "      <th>98</th>\n",
       "      <td>0.0254191267</td>\n",
       "      <td>e eccdfedeaeggcbcbfgefcfecageebbb dbc dagdedfecbegaggeafbbacbcfedebcdabgaegad cbgaadcadb abbeaade bdb b gabgcfaebe ffabbd fdfcba c a c ad bgbgab ccdge  bd fda gbaceaff aaceedcdgccbgaggf eg ag fbgbdfcb</td>\n",
       "    </tr>\n",
       "    <tr>\n",
       "      <th>99</th>\n",
       "      <td>0.1078914270</td>\n",
       "      <td>fabgecgba addfaecedbdceebdaaebgbafdacbfbg fgegddfdebbafabe gec gbf dffbcb  fbcdf bffecga cdgaceegfeg  cafb ba da bfge d adb fedac ebef cgaccfeggc cea ggeca gdc bdfdg gcfcdg agaegdcaffdeafac dgbf geafd</td>\n",
       "    </tr>\n",
       "  </tbody>\n",
       "</table>\n",
       "<p>100 rows × 2 columns</p>\n",
       "</div>"
      ],
      "text/plain": [
       "           col1  \\\n",
       "0  0.0000000001   \n",
       "1  0.9507143064   \n",
       "2  0.7319939418   \n",
       "3  0.5986584842   \n",
       "4  0.1560186404   \n",
       "..          ...   \n",
       "95 0.4937955964   \n",
       "96 0.5227328294   \n",
       "97 0.4275410184   \n",
       "98 0.0254191267   \n",
       "99 0.1078914270   \n",
       "\n",
       "                                                                                                                                                                                                        text  \n",
       "0   baeddcbbgaabddadgd eacgfecdfbbgbffea bgbefdbadebdbge fcffdebcdc gedfadafgebdfd g cecdeggfdc babccgbgg eabefbegc aecbedcfcaf abfedadbb bcc cegddegf  bddbfaddabadbafbde dc d gdbbgfgg abagfbddd cgce db b  \n",
       "1   aabdcg  dgacgage eg cdedaafaa cabcbbdgbdabgfedfdegce fba bbdecfbdfec eaebcebbceedfde eabgeaafcec gabbcafcgcaefafddbfgcdccgacfgdecbga dd feddadgfebefgfabeceabgffgbgdeagadfgbffbeegfgecdggcegaeedgf   d c  \n",
       "2   befbdeddcaad b gdg gdcabgdc adb c f g c  ede de bedeffbccdgcdbggf gadggag afeggd deg agfgc cagabgc caegfd ffgegeb aafdbaaddacdc bd efcbcebaeggdbdbebafgfbfag bgf cgce  gefdbe d gfa fc dfefeeadbdg d   a  \n",
       "3   bedgdef fgff eeedbdfbcdd eebdedfceaceaaec bae   fcae bbg baccebdbgdg  egeabddebcdcbcag  eadee bdedgbdcecbacee b ege  bagfeabdaeac  ecg b fgffbcfg ega bfefbga gadf  adece  badceagbdb bc eeg  d cgdcbegf  \n",
       "4   eaee c  ffg fddgdgaf ggc acfb b acgcb efgbfgf abdedbgbb ceaafaeffgcdgcccbgd cd e ea ecb fege edg bdgfeeageaa edfddecbae afcbefgcdcfece efb bcdgfbgaeb fegfbd afdb egbcaae bbdcg fgcgb geafd  dfbffagedb   \n",
       "..                                                                                                                                                                                                       ...  \n",
       "95  fdfegeafbadac daec gdgcbeee bdfdagag geacce effbdf c b edagbbgeadedb d  fdddge  aebdaabfdgaccgcfecaebcdbaf  caeebaa ebdcefdba ebcce a cgegdccfb ecceaedcgbbaadeggbgda acg cacaafdggcbfdgaaf  faab dcfaa   \n",
       "96  d bda ccbbdga bg ccbaefegb bcb a eedgacdeeccfcbgacfcdebcaee  cgadcgffbdc gb eacefffbgacbbbfbcggege ggcd gaaee ead bba ecbgeaagdgcdfdeege acbdgfegccacbcd caffaddaaaagdeg dbaabbebgaabgcdc d  agafebg egd  \n",
       "97  aaaeddgbbd bbbfbfefcecadeabfdfdegga fgeeegg cabaceacbccd eacgcafb efc dfdgecdf aaebcbcfbbgbcffaegbaa cdaeggaabcdc babcdcgbfbcaefa ggfdeegaecc gdegabbfdaf de cedfgb gccfbc cg agggfgcceb g ee  bcadfaagb  \n",
       "98  e eccdfedeaeggcbcbfgefcfecageebbb dbc dagdedfecbegaggeafbbacbcfedebcdabgaegad cbgaadcadb abbeaade bdb b gabgcfaebe ffabbd fdfcba c a c ad bgbgab ccdge  bd fda gbaceaff aaceedcdgccbgaggf eg ag fbgbdfcb  \n",
       "99  fabgecgba addfaecedbdceebdaaebgbafdacbfbg fgegddfdebbafabe gec gbf dffbcb  fbcdf bffecga cdgaceegfeg  cafb ba da bfge d adb fedac ebef cgaccfeggc cea ggeca gdc bdfdg gcfcdg agaegdcaffdeafac dgbf geafd  \n",
       "\n",
       "[100 rows x 2 columns]"
      ]
     },
     "execution_count": 11,
     "metadata": {},
     "output_type": "execute_result"
    }
   ],
   "source": [
    "pd.set_option('max_colwidth', 500)\n",
    "df"
   ]
  },
  {
   "cell_type": "markdown",
   "metadata": {},
   "source": [
    "## df info"
   ]
  },
  {
   "cell_type": "code",
   "execution_count": 14,
   "metadata": {},
   "outputs": [
    {
     "data": {
      "text/plain": [
       "<bound method DataFrame.info of <class 'pandas.core.frame.DataFrame'>\n",
       "RangeIndex: 100 entries, 0 to 99\n",
       "Data columns (total 2 columns):\n",
       " #   Column  Non-Null Count  Dtype  \n",
       "---  ------  --------------  -----  \n",
       " 0   col1    100 non-null    float64\n",
       " 1   text    100 non-null    object \n",
       "dtypes: float64(1), object(1)\n",
       "memory usage: 1.7+ KB\n",
       ">"
      ]
     },
     "metadata": {},
     "output_type": "display_data"
    }
   ],
   "source": [
    "pd.set_option('large_repr', 'info')\n",
    "\n",
    "display(df.info)\n",
    "pd.reset_option('large_repr') # reset it\n"
   ]
  },
  {
   "cell_type": "code",
   "execution_count": null,
   "metadata": {},
   "outputs": [],
   "source": []
  }
 ],
 "metadata": {
  "kernelspec": {
   "display_name": "Python 3",
   "language": "python",
   "name": "python3"
  },
  "language_info": {
   "codemirror_mode": {
    "name": "ipython",
    "version": 3
   },
   "file_extension": ".py",
   "mimetype": "text/x-python",
   "name": "python",
   "nbconvert_exporter": "python",
   "pygments_lexer": "ipython3",
   "version": "3.6.10"
  }
 },
 "nbformat": 4,
 "nbformat_minor": 4
}
